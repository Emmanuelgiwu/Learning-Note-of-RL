{
 "cells": [
  {
   "cell_type": "code",
   "execution_count": 12,
   "metadata": {},
   "outputs": [],
   "source": [
    "import gym\n",
    "import numpy as np"
   ]
  },
  {
   "cell_type": "code",
   "execution_count": 13,
   "metadata": {},
   "outputs": [],
   "source": [
    "env = gym.make('FrozenLake-v0')"
   ]
  },
  {
   "cell_type": "code",
   "execution_count": 27,
   "metadata": {},
   "outputs": [],
   "source": [
    "def compute_value_function(policy,gamma=1.0):\n",
    "    value_table = np.zeros(env.nS)\n",
    "    threshold =1e-10\n",
    "    while True:\n",
    "        updated_value_table = np.copy(value_table)\n",
    "        for state in range(env.nS):\n",
    "            action = policy[state]\n",
    "            value_table[state] = sum([trans_prob * (reward_prob + gamma * updated_value_table[next_state]) for trans_prob, next_state,reward_prob, _ in env.P[state][action]])\n",
    "            if (np.sum((np.fabs(updated_value_table - value_table))) <= threshold):\n",
    "                break\n",
    "    return value_table\n",
    "                                    "
   ]
  },
  {
   "cell_type": "code",
   "execution_count": 28,
   "metadata": {},
   "outputs": [],
   "source": [
    "def extract_policy(value_table, gamma = 1.0):\n",
    "    policy = np.zeros(env.observation_space.n)\n",
    "    for state in range(env.observation_space.n):\n",
    "        Q_table = np.zeros(env.action_sapce.n)\n",
    "        for action in range(env.action_space.n):\n",
    "            for next_sr in env.P[state][action]:\n",
    "                trans_prob, next_state, reward_prob, _ = next_sr\n",
    "                Q_table[action] += (trans_prob * (reward_prob + gamma * value_table[next_state]))\n",
    "        policy[state] = np.argmax(Q_table)\n",
    "    return policy"
   ]
  },
  {
   "cell_type": "code",
   "execution_count": null,
   "metadata": {
    "scrolled": true
   },
   "outputs": [],
   "source": [
    "def policy_iteration(env,gamma = 1.0):\n",
    "    random_policy = np.zeros(env.observation_space.n)\n",
    "    no_of_iterations = 200000\n",
    "    gamma = 1.0\n",
    "    for i in range(no_of_iterations):\n",
    "        new_value_function = compute_value_function(random_policy,gamma)\n",
    "        if (np.all(random_policy == new_policy)):\n",
    "            print('Policy-Iteration converged at step %d.' %(i+1))\n",
    "            break\n",
    "        random_policy = new_policy\n",
    "    return new_policy\n",
    "            \n",
    "print (policy_iteration(env))"
   ]
  },
  {
   "cell_type": "code",
   "execution_count": null,
   "metadata": {},
   "outputs": [],
   "source": []
  },
  {
   "cell_type": "code",
   "execution_count": null,
   "metadata": {},
   "outputs": [],
   "source": []
  }
 ],
 "metadata": {
  "kernelspec": {
   "display_name": "Python 3",
   "language": "python",
   "name": "python3"
  },
  "language_info": {
   "codemirror_mode": {
    "name": "ipython",
    "version": 3
   },
   "file_extension": ".py",
   "mimetype": "text/x-python",
   "name": "python",
   "nbconvert_exporter": "python",
   "pygments_lexer": "ipython3",
   "version": "3.6.2"
  }
 },
 "nbformat": 4,
 "nbformat_minor": 2
}
